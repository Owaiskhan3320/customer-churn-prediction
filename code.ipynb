{
 "cells": [
  {
   "cell_type": "markdown",
   "id": "838a47e2-005e-4cd9-b29d-4b0050490da0",
   "metadata": {},
   "source": [
    "### 1. Importing The Dependencies\n"
   ]
  },
  {
   "cell_type": "code",
   "execution_count": 2,
   "id": "cfb53798-82be-4934-96ac-a92ed0bd5930",
   "metadata": {},
   "outputs": [],
   "source": [
    "import pandas as pd\n",
    "import numpy as np\n",
    "import matplotlib.pyplot as plt\n",
    "import seaborn as sns\n",
    "from sklearn.preprocessing import LabelEncoder\n",
    "from imblearn.over_sampling import SMOTE\n",
    "from sklearn.model_selection import train_test_split, cross_val_score\n",
    "from sklearn.tree import DecisionTreeClassifier\n",
    "from sklearn.ensemble import RandomForestClassifier\n",
    "from xgboost import XGBClassifier\n",
    "from sklearn.metrics import accuracy_score, confusion_matrix, classification_report\n",
    "import pickle\n",
    "from sklearn.preprocessing import LabelEncoder\n",
    "from sklearn.model_selection import RandomizedSearchCV\n",
    "from sklearn.model_selection import RandomizedSearchCV, train_test_split\n",
    "from sklearn.metrics import f1_score\n",
    "from sklearn.linear_model import LogisticRegression\n",
    "from scipy.stats import loguniform\n",
    "from sklearn.model_selection import ParameterSampler\n",
    "from xgboost import XGBClassifier\n",
    "from sklearn.model_selection import GridSearchCV\n",
    "from sklearn.metrics import classification_report, accuracy_score\n",
    "from sklearn.model_selection import GridSearchCV\n",
    "from sklearn.ensemble import RandomForestClassifier\n",
    "from sklearn.model_selection import GridSearchCV\n",
    "from imblearn.over_sampling import SMOTE\n",
    "from sklearn.model_selection import train_test_split, cross_val_score\n",
    "from sklearn.metrics import (\n",
    "    accuracy_score,\n",
    "    precision_score,\n",
    "    recall_score,\n",
    "    f1_score,\n",
    "    roc_auc_score,\n",
    "    confusion_matrix,\n",
    "    classification_report\n",
    ")\n",
    "import time\n",
    "import pandas as pd\n",
    "from sklearn.metrics import (\n",
    "    accuracy_score, precision_score, recall_score,\n",
    "    f1_score, roc_auc_score, confusion_matrix,\n",
    "    balanced_accuracy_score, matthews_corrcoef\n",
    ")\n",
    "from sklearn.tree import DecisionTreeClassifier\n",
    "from sklearn.ensemble import RandomForestClassifier\n",
    "from xgboost import XGBClassifier\n",
    "from sklearn.linear_model import LogisticRegression, RidgeClassifier, PassiveAggressiveClassifier\n",
    "from sklearn.ensemble import (\n",
    "    RandomForestClassifier, GradientBoostingClassifier, \n",
    "    AdaBoostClassifier, ExtraTreesClassifier, BaggingClassifier\n",
    ")\n",
    "\n",
    "from sklearn.naive_bayes import GaussianNB\n",
    "from sklearn.discriminant_analysis import QuadraticDiscriminantAnalysis\n",
    "from sklearn.neural_network import MLPClassifier"
   ]
  },
  {
   "cell_type": "markdown",
   "id": "4e802320-9cc9-4c58-9a6e-858362613418",
   "metadata": {},
   "source": [
    "### 2. Data Loading and Understanding"
   ]
  },
  {
   "cell_type": "code",
   "execution_count": 6,
   "id": "718d777d-e576-4227-b9cb-22691a6bad95",
   "metadata": {},
   "outputs": [],
   "source": [
    "df = pd.read_csv(\"customer_churn_dataset.csv\")"
   ]
  },
  {
   "cell_type": "code",
   "execution_count": 7,
   "id": "ccb954fb-70c1-4992-906d-7e4757e127cc",
   "metadata": {},
   "outputs": [
    {
     "data": {
      "text/plain": [
       "(440833, 12)"
      ]
     },
     "execution_count": 7,
     "metadata": {},
     "output_type": "execute_result"
    }
   ],
   "source": [
    "df.shape"
   ]
  },
  {
   "cell_type": "code",
   "execution_count": 8,
   "id": "c480307a-1bac-49a8-bccc-7321211617c8",
   "metadata": {},
   "outputs": [
    {
     "data": {
      "text/html": [
       "<div>\n",
       "<style scoped>\n",
       "    .dataframe tbody tr th:only-of-type {\n",
       "        vertical-align: middle;\n",
       "    }\n",
       "\n",
       "    .dataframe tbody tr th {\n",
       "        vertical-align: top;\n",
       "    }\n",
       "\n",
       "    .dataframe thead th {\n",
       "        text-align: right;\n",
       "    }\n",
       "</style>\n",
       "<table border=\"1\" class=\"dataframe\">\n",
       "  <thead>\n",
       "    <tr style=\"text-align: right;\">\n",
       "      <th></th>\n",
       "      <th>CustomerID</th>\n",
       "      <th>Age</th>\n",
       "      <th>Gender</th>\n",
       "      <th>Tenure</th>\n",
       "      <th>Usage Frequency</th>\n",
       "      <th>Support Calls</th>\n",
       "      <th>Payment Delay</th>\n",
       "      <th>Subscription Type</th>\n",
       "      <th>Contract Length</th>\n",
       "      <th>Total Spend</th>\n",
       "      <th>Last Interaction</th>\n",
       "      <th>Churn</th>\n",
       "    </tr>\n",
       "  </thead>\n",
       "  <tbody>\n",
       "    <tr>\n",
       "      <th>0</th>\n",
       "      <td>2.0</td>\n",
       "      <td>30.0</td>\n",
       "      <td>Female</td>\n",
       "      <td>39.0</td>\n",
       "      <td>14.0</td>\n",
       "      <td>5.0</td>\n",
       "      <td>18.0</td>\n",
       "      <td>Standard</td>\n",
       "      <td>Annual</td>\n",
       "      <td>932.0</td>\n",
       "      <td>17.0</td>\n",
       "      <td>1.0</td>\n",
       "    </tr>\n",
       "    <tr>\n",
       "      <th>1</th>\n",
       "      <td>3.0</td>\n",
       "      <td>65.0</td>\n",
       "      <td>Female</td>\n",
       "      <td>49.0</td>\n",
       "      <td>1.0</td>\n",
       "      <td>10.0</td>\n",
       "      <td>8.0</td>\n",
       "      <td>Basic</td>\n",
       "      <td>Monthly</td>\n",
       "      <td>557.0</td>\n",
       "      <td>6.0</td>\n",
       "      <td>1.0</td>\n",
       "    </tr>\n",
       "    <tr>\n",
       "      <th>2</th>\n",
       "      <td>4.0</td>\n",
       "      <td>55.0</td>\n",
       "      <td>Female</td>\n",
       "      <td>14.0</td>\n",
       "      <td>4.0</td>\n",
       "      <td>6.0</td>\n",
       "      <td>18.0</td>\n",
       "      <td>Basic</td>\n",
       "      <td>Quarterly</td>\n",
       "      <td>185.0</td>\n",
       "      <td>3.0</td>\n",
       "      <td>1.0</td>\n",
       "    </tr>\n",
       "    <tr>\n",
       "      <th>3</th>\n",
       "      <td>5.0</td>\n",
       "      <td>58.0</td>\n",
       "      <td>Male</td>\n",
       "      <td>38.0</td>\n",
       "      <td>21.0</td>\n",
       "      <td>7.0</td>\n",
       "      <td>7.0</td>\n",
       "      <td>Standard</td>\n",
       "      <td>Monthly</td>\n",
       "      <td>396.0</td>\n",
       "      <td>29.0</td>\n",
       "      <td>1.0</td>\n",
       "    </tr>\n",
       "    <tr>\n",
       "      <th>4</th>\n",
       "      <td>6.0</td>\n",
       "      <td>23.0</td>\n",
       "      <td>Male</td>\n",
       "      <td>32.0</td>\n",
       "      <td>20.0</td>\n",
       "      <td>5.0</td>\n",
       "      <td>8.0</td>\n",
       "      <td>Basic</td>\n",
       "      <td>Monthly</td>\n",
       "      <td>617.0</td>\n",
       "      <td>20.0</td>\n",
       "      <td>1.0</td>\n",
       "    </tr>\n",
       "  </tbody>\n",
       "</table>\n",
       "</div>"
      ],
      "text/plain": [
       "   CustomerID   Age  Gender  Tenure  Usage Frequency  Support Calls  \\\n",
       "0         2.0  30.0  Female    39.0             14.0            5.0   \n",
       "1         3.0  65.0  Female    49.0              1.0           10.0   \n",
       "2         4.0  55.0  Female    14.0              4.0            6.0   \n",
       "3         5.0  58.0    Male    38.0             21.0            7.0   \n",
       "4         6.0  23.0    Male    32.0             20.0            5.0   \n",
       "\n",
       "   Payment Delay Subscription Type Contract Length  Total Spend  \\\n",
       "0           18.0          Standard          Annual        932.0   \n",
       "1            8.0             Basic         Monthly        557.0   \n",
       "2           18.0             Basic       Quarterly        185.0   \n",
       "3            7.0          Standard         Monthly        396.0   \n",
       "4            8.0             Basic         Monthly        617.0   \n",
       "\n",
       "   Last Interaction  Churn  \n",
       "0              17.0    1.0  \n",
       "1               6.0    1.0  \n",
       "2               3.0    1.0  \n",
       "3              29.0    1.0  \n",
       "4              20.0    1.0  "
      ]
     },
     "execution_count": 8,
     "metadata": {},
     "output_type": "execute_result"
    }
   ],
   "source": [
    "df.head()"
   ]
  },
  {
   "cell_type": "code",
   "execution_count": 140,
   "id": "0cea948a-4b90-4e54-949d-1dce22b11317",
   "metadata": {},
   "outputs": [
    {
     "name": "stdout",
     "output_type": "stream",
     "text": [
      "<class 'pandas.core.frame.DataFrame'>\n",
      "RangeIndex: 440833 entries, 0 to 440832\n",
      "Data columns (total 12 columns):\n",
      " #   Column             Non-Null Count   Dtype  \n",
      "---  ------             --------------   -----  \n",
      " 0   CustomerID         440832 non-null  float64\n",
      " 1   Age                440832 non-null  float64\n",
      " 2   Gender             440832 non-null  object \n",
      " 3   Tenure             440832 non-null  float64\n",
      " 4   Usage Frequency    440832 non-null  float64\n",
      " 5   Support Calls      440832 non-null  float64\n",
      " 6   Payment Delay      440832 non-null  float64\n",
      " 7   Subscription Type  440832 non-null  object \n",
      " 8   Contract Length    440832 non-null  object \n",
      " 9   Total Spend        440832 non-null  float64\n",
      " 10  Last Interaction   440832 non-null  float64\n",
      " 11  Churn              440832 non-null  float64\n",
      "dtypes: float64(9), object(3)\n",
      "memory usage: 40.4+ MB\n"
     ]
    }
   ],
   "source": [
    "df.info()"
   ]
  },
  {
   "cell_type": "code",
   "execution_count": 141,
   "id": "51b9530f-4dec-4606-a5bb-d9b4e7d1cc3e",
   "metadata": {},
   "outputs": [],
   "source": [
    "# dropping customerID column as this is not required for modelling\n",
    "df = df.drop(columns=[\"CustomerID\"])"
   ]
  },
  {
   "cell_type": "code",
   "execution_count": 142,
   "id": "555c43ac-a7e4-4583-875f-8f10b0c414d0",
   "metadata": {},
   "outputs": [
    {
     "data": {
      "text/html": [
       "<div>\n",
       "<style scoped>\n",
       "    .dataframe tbody tr th:only-of-type {\n",
       "        vertical-align: middle;\n",
       "    }\n",
       "\n",
       "    .dataframe tbody tr th {\n",
       "        vertical-align: top;\n",
       "    }\n",
       "\n",
       "    .dataframe thead th {\n",
       "        text-align: right;\n",
       "    }\n",
       "</style>\n",
       "<table border=\"1\" class=\"dataframe\">\n",
       "  <thead>\n",
       "    <tr style=\"text-align: right;\">\n",
       "      <th></th>\n",
       "      <th>Age</th>\n",
       "      <th>Gender</th>\n",
       "      <th>Tenure</th>\n",
       "      <th>Usage Frequency</th>\n",
       "      <th>Support Calls</th>\n",
       "      <th>Payment Delay</th>\n",
       "      <th>Subscription Type</th>\n",
       "      <th>Contract Length</th>\n",
       "      <th>Total Spend</th>\n",
       "      <th>Last Interaction</th>\n",
       "      <th>Churn</th>\n",
       "    </tr>\n",
       "  </thead>\n",
       "  <tbody>\n",
       "    <tr>\n",
       "      <th>0</th>\n",
       "      <td>30.0</td>\n",
       "      <td>Female</td>\n",
       "      <td>39.0</td>\n",
       "      <td>14.0</td>\n",
       "      <td>5.0</td>\n",
       "      <td>18.0</td>\n",
       "      <td>Standard</td>\n",
       "      <td>Annual</td>\n",
       "      <td>932.0</td>\n",
       "      <td>17.0</td>\n",
       "      <td>1.0</td>\n",
       "    </tr>\n",
       "    <tr>\n",
       "      <th>1</th>\n",
       "      <td>65.0</td>\n",
       "      <td>Female</td>\n",
       "      <td>49.0</td>\n",
       "      <td>1.0</td>\n",
       "      <td>10.0</td>\n",
       "      <td>8.0</td>\n",
       "      <td>Basic</td>\n",
       "      <td>Monthly</td>\n",
       "      <td>557.0</td>\n",
       "      <td>6.0</td>\n",
       "      <td>1.0</td>\n",
       "    </tr>\n",
       "  </tbody>\n",
       "</table>\n",
       "</div>"
      ],
      "text/plain": [
       "    Age  Gender  Tenure  Usage Frequency  Support Calls  Payment Delay  \\\n",
       "0  30.0  Female    39.0             14.0            5.0           18.0   \n",
       "1  65.0  Female    49.0              1.0           10.0            8.0   \n",
       "\n",
       "  Subscription Type Contract Length  Total Spend  Last Interaction  Churn  \n",
       "0          Standard          Annual        932.0              17.0    1.0  \n",
       "1             Basic         Monthly        557.0               6.0    1.0  "
      ]
     },
     "execution_count": 142,
     "metadata": {},
     "output_type": "execute_result"
    }
   ],
   "source": [
    "df.head(2)"
   ]
  },
  {
   "cell_type": "code",
   "execution_count": 143,
   "id": "1649bf9f-d118-47f3-bf75-adb082c98e51",
   "metadata": {},
   "outputs": [
    {
     "data": {
      "text/plain": [
       "Index(['Age', 'Gender', 'Tenure', 'Usage Frequency', 'Support Calls',\n",
       "       'Payment Delay', 'Subscription Type', 'Contract Length', 'Total Spend',\n",
       "       'Last Interaction', 'Churn'],\n",
       "      dtype='object')"
      ]
     },
     "execution_count": 143,
     "metadata": {},
     "output_type": "execute_result"
    }
   ],
   "source": [
    "df.columns"
   ]
  },
  {
   "cell_type": "code",
   "execution_count": 9,
   "id": "8b3d77d5-6229-4088-8875-b2f99fb1fe81",
   "metadata": {},
   "outputs": [
    {
     "name": "stdout",
     "output_type": "stream",
     "text": [
      "Age [30. 65. 55. 58. 23. 51. 39. 64. 29. 52. 22. 48. 24. 49. 19. 47. 42. 57.\n",
      " 27. 59. 21. 60. 35. 18. 56. 20. 63. 25. 28. 32. 38. 37. 31. 53. 41. 33.\n",
      " 26. 36. 44. 34. 61. 40. 45. 46. 54. 43. 50. 62. nan]\n",
      "--------------------------------------------------\n",
      "Gender ['Female' 'Male' nan]\n",
      "--------------------------------------------------\n",
      "Tenure [39. 49. 14. 38. 32. 33. 37. 12.  3. 18. 21. 41. 35.  4. 56. 44. 15. 55.\n",
      " 43. 52. 26.  2. 29. 59. 40. 51. 53. 24. 30.  6. 28. 17. 60.  7. 34. 10.\n",
      "  5. 45. 54. 58. 25. 13. 47. 31. 22. 19. 23.  1.  8. 46. 16. 50. 48. 11.\n",
      " 42. 27.  9. 20. 57. 36. nan]\n",
      "--------------------------------------------------\n",
      "Usage Frequency [14.  1.  4. 21. 20. 25. 12.  8.  5.  9.  6. 17. 23. 13. 16. 27.  2. 28.\n",
      " 29. 15. 24.  3. 22. 26. 30.  7. 11. 18. 19. 10. nan]\n",
      "--------------------------------------------------\n",
      "Support Calls [ 5. 10.  6.  7.  9.  3.  4.  2.  0.  1.  8. nan]\n",
      "--------------------------------------------------\n",
      "Payment Delay [18.  8.  7. 26. 16. 15.  4. 11. 30. 25. 13. 22.  5. 14.  3. 10. 28.  2.\n",
      "  6. 27. 12. 29. 17. 24.  9. 23. 21.  1.  0. 20. 19. nan]\n",
      "--------------------------------------------------\n",
      "Subscription Type ['Standard' 'Basic' 'Premium' nan]\n",
      "--------------------------------------------------\n",
      "Contract Length ['Annual' 'Monthly' 'Quarterly' nan]\n",
      "--------------------------------------------------\n",
      "Total Spend [932.   557.   185.   ... 829.59 804.3  959.47]\n",
      "--------------------------------------------------\n",
      "Last Interaction [17.  6.  3. 29. 20.  8. 24. 30. 13. 18. 19. 23.  4. 16. 10. 21. 22.  2.\n",
      " 15. 28. 26.  7.  1.  9.  5. 14. 11. 12. 27. 25. nan]\n",
      "--------------------------------------------------\n",
      "Churn [ 1.  0. nan]\n",
      "--------------------------------------------------\n"
     ]
    }
   ],
   "source": [
    "# Printing the unique values in all Catagorical columns\n",
    "numerical_features_list=[\"tenure\",\"MonthlyCharge\",\"TotalCharge\"]\n",
    "for col in df.columns:\n",
    "    if col not in numerical_features_list:\n",
    "        print(col,df[col].unique())\n",
    "        print(\"-\"*50)"
   ]
  },
  {
   "cell_type": "code",
   "execution_count": 144,
   "id": "b57b97a0-1215-4443-871e-a06fb033294f",
   "metadata": {},
   "outputs": [
    {
     "name": "stdout",
     "output_type": "stream",
     "text": [
      "Age                  1\n",
      "Gender               1\n",
      "Tenure               1\n",
      "Usage Frequency      1\n",
      "Support Calls        1\n",
      "Payment Delay        1\n",
      "Subscription Type    1\n",
      "Contract Length      1\n",
      "Total Spend          1\n",
      "Last Interaction     1\n",
      "Churn                1\n",
      "dtype: int64\n"
     ]
    }
   ],
   "source": [
    "print(df.isnull().sum())"
   ]
  },
  {
   "cell_type": "code",
   "execution_count": 145,
   "id": "440a4420-9e6f-4665-b308-902ae87b76be",
   "metadata": {},
   "outputs": [
    {
     "data": {
      "text/html": [
       "<div>\n",
       "<style scoped>\n",
       "    .dataframe tbody tr th:only-of-type {\n",
       "        vertical-align: middle;\n",
       "    }\n",
       "\n",
       "    .dataframe tbody tr th {\n",
       "        vertical-align: top;\n",
       "    }\n",
       "\n",
       "    .dataframe thead th {\n",
       "        text-align: right;\n",
       "    }\n",
       "</style>\n",
       "<table border=\"1\" class=\"dataframe\">\n",
       "  <thead>\n",
       "    <tr style=\"text-align: right;\">\n",
       "      <th></th>\n",
       "      <th>Age</th>\n",
       "      <th>Gender</th>\n",
       "      <th>Tenure</th>\n",
       "      <th>Usage Frequency</th>\n",
       "      <th>Support Calls</th>\n",
       "      <th>Payment Delay</th>\n",
       "      <th>Subscription Type</th>\n",
       "      <th>Contract Length</th>\n",
       "      <th>Total Spend</th>\n",
       "      <th>Last Interaction</th>\n",
       "      <th>Churn</th>\n",
       "    </tr>\n",
       "  </thead>\n",
       "  <tbody>\n",
       "    <tr>\n",
       "      <th>199295</th>\n",
       "      <td>NaN</td>\n",
       "      <td>NaN</td>\n",
       "      <td>NaN</td>\n",
       "      <td>NaN</td>\n",
       "      <td>NaN</td>\n",
       "      <td>NaN</td>\n",
       "      <td>NaN</td>\n",
       "      <td>NaN</td>\n",
       "      <td>NaN</td>\n",
       "      <td>NaN</td>\n",
       "      <td>NaN</td>\n",
       "    </tr>\n",
       "  </tbody>\n",
       "</table>\n",
       "</div>"
      ],
      "text/plain": [
       "        Age Gender  Tenure  Usage Frequency  Support Calls  Payment Delay  \\\n",
       "199295  NaN    NaN     NaN              NaN            NaN            NaN   \n",
       "\n",
       "       Subscription Type Contract Length  Total Spend  Last Interaction  Churn  \n",
       "199295               NaN             NaN          NaN               NaN    NaN  "
      ]
     },
     "execution_count": 145,
     "metadata": {},
     "output_type": "execute_result"
    }
   ],
   "source": [
    "df[df.isnull().any(axis=1)]"
   ]
  },
  {
   "cell_type": "code",
   "execution_count": 146,
   "id": "91f8ddf6-496d-460d-bbf2-9b123f45cc93",
   "metadata": {},
   "outputs": [],
   "source": [
    "df.dropna(inplace=True)"
   ]
  },
  {
   "cell_type": "code",
   "execution_count": 147,
   "id": "41a31226-0ab9-4fca-9e9e-cc4a05617f19",
   "metadata": {},
   "outputs": [
    {
     "name": "stdout",
     "output_type": "stream",
     "text": [
      "(440832, 11)\n"
     ]
    },
    {
     "data": {
      "text/plain": [
       "Index(['Age', 'Gender', 'Tenure', 'Usage Frequency', 'Support Calls',\n",
       "       'Payment Delay', 'Subscription Type', 'Contract Length', 'Total Spend',\n",
       "       'Last Interaction', 'Churn'],\n",
       "      dtype='object')"
      ]
     },
     "execution_count": 147,
     "metadata": {},
     "output_type": "execute_result"
    }
   ],
   "source": [
    "print(df.shape)\n",
    "df.columns"
   ]
  },
  {
   "cell_type": "code",
   "execution_count": 148,
   "id": "9fabe1b0-c9bb-491f-9be6-88e6862fea55",
   "metadata": {},
   "outputs": [
    {
     "name": "stdout",
     "output_type": "stream",
     "text": [
      "Churn\n",
      "1.0    249999\n",
      "0.0    190833\n",
      "Name: count, dtype: int64\n"
     ]
    }
   ],
   "source": [
    "# Checking the Class Distribution of thr Target Column\n",
    "print(df['Churn'].value_counts())"
   ]
  },
  {
   "cell_type": "markdown",
   "id": "70261806-3c5d-465c-bfb2-407aad96e4ff",
   "metadata": {},
   "source": [
    "#### Insights:\n",
    "\n",
    "1. Customer ID removed as it is not required for modelling\n",
    "2. 1  missing values in the dataset\n",
    "3. slightly Class imbalance identified in the target"
   ]
  },
  {
   "cell_type": "markdown",
   "id": "7ce52dc2-1e32-4d5e-a85c-d96c28e8f50e",
   "metadata": {},
   "source": [
    "### 3. Exploratory Data Analysis(EDA)"
   ]
  },
  {
   "cell_type": "code",
   "execution_count": 149,
   "id": "dfe9d91c-340a-488d-9b10-c2879e57c9b9",
   "metadata": {},
   "outputs": [
    {
     "data": {
      "text/html": [
       "<div>\n",
       "<style scoped>\n",
       "    .dataframe tbody tr th:only-of-type {\n",
       "        vertical-align: middle;\n",
       "    }\n",
       "\n",
       "    .dataframe tbody tr th {\n",
       "        vertical-align: top;\n",
       "    }\n",
       "\n",
       "    .dataframe thead th {\n",
       "        text-align: right;\n",
       "    }\n",
       "</style>\n",
       "<table border=\"1\" class=\"dataframe\">\n",
       "  <thead>\n",
       "    <tr style=\"text-align: right;\">\n",
       "      <th></th>\n",
       "      <th>Age</th>\n",
       "      <th>Gender</th>\n",
       "      <th>Tenure</th>\n",
       "      <th>Usage Frequency</th>\n",
       "      <th>Support Calls</th>\n",
       "      <th>Payment Delay</th>\n",
       "      <th>Subscription Type</th>\n",
       "      <th>Contract Length</th>\n",
       "      <th>Total Spend</th>\n",
       "      <th>Last Interaction</th>\n",
       "      <th>Churn</th>\n",
       "    </tr>\n",
       "  </thead>\n",
       "  <tbody>\n",
       "    <tr>\n",
       "      <th>0</th>\n",
       "      <td>30.0</td>\n",
       "      <td>Female</td>\n",
       "      <td>39.0</td>\n",
       "      <td>14.0</td>\n",
       "      <td>5.0</td>\n",
       "      <td>18.0</td>\n",
       "      <td>Standard</td>\n",
       "      <td>Annual</td>\n",
       "      <td>932.0</td>\n",
       "      <td>17.0</td>\n",
       "      <td>1.0</td>\n",
       "    </tr>\n",
       "    <tr>\n",
       "      <th>1</th>\n",
       "      <td>65.0</td>\n",
       "      <td>Female</td>\n",
       "      <td>49.0</td>\n",
       "      <td>1.0</td>\n",
       "      <td>10.0</td>\n",
       "      <td>8.0</td>\n",
       "      <td>Basic</td>\n",
       "      <td>Monthly</td>\n",
       "      <td>557.0</td>\n",
       "      <td>6.0</td>\n",
       "      <td>1.0</td>\n",
       "    </tr>\n",
       "  </tbody>\n",
       "</table>\n",
       "</div>"
      ],
      "text/plain": [
       "    Age  Gender  Tenure  Usage Frequency  Support Calls  Payment Delay  \\\n",
       "0  30.0  Female    39.0             14.0            5.0           18.0   \n",
       "1  65.0  Female    49.0              1.0           10.0            8.0   \n",
       "\n",
       "  Subscription Type Contract Length  Total Spend  Last Interaction  Churn  \n",
       "0          Standard          Annual        932.0              17.0    1.0  \n",
       "1             Basic         Monthly        557.0               6.0    1.0  "
      ]
     },
     "execution_count": 149,
     "metadata": {},
     "output_type": "execute_result"
    }
   ],
   "source": [
    "df.head(2)"
   ]
  },
  {
   "cell_type": "code",
   "execution_count": 16,
   "id": "074a2a73-5d8d-4956-84e4-d1dcb49b4ac6",
   "metadata": {},
   "outputs": [
    {
     "data": {
      "text/html": [
       "<div>\n",
       "<style scoped>\n",
       "    .dataframe tbody tr th:only-of-type {\n",
       "        vertical-align: middle;\n",
       "    }\n",
       "\n",
       "    .dataframe tbody tr th {\n",
       "        vertical-align: top;\n",
       "    }\n",
       "\n",
       "    .dataframe thead th {\n",
       "        text-align: right;\n",
       "    }\n",
       "</style>\n",
       "<table border=\"1\" class=\"dataframe\">\n",
       "  <thead>\n",
       "    <tr style=\"text-align: right;\">\n",
       "      <th></th>\n",
       "      <th>Age</th>\n",
       "      <th>Tenure</th>\n",
       "      <th>Usage Frequency</th>\n",
       "      <th>Support Calls</th>\n",
       "      <th>Payment Delay</th>\n",
       "      <th>Total Spend</th>\n",
       "      <th>Last Interaction</th>\n",
       "      <th>Churn</th>\n",
       "    </tr>\n",
       "  </thead>\n",
       "  <tbody>\n",
       "    <tr>\n",
       "      <th>count</th>\n",
       "      <td>440832.000000</td>\n",
       "      <td>440832.000000</td>\n",
       "      <td>440832.000000</td>\n",
       "      <td>440832.000000</td>\n",
       "      <td>440832.000000</td>\n",
       "      <td>440832.000000</td>\n",
       "      <td>440832.000000</td>\n",
       "      <td>440832.000000</td>\n",
       "    </tr>\n",
       "    <tr>\n",
       "      <th>mean</th>\n",
       "      <td>39.373153</td>\n",
       "      <td>31.256336</td>\n",
       "      <td>15.807494</td>\n",
       "      <td>3.604437</td>\n",
       "      <td>12.965722</td>\n",
       "      <td>631.616223</td>\n",
       "      <td>14.480868</td>\n",
       "      <td>0.567107</td>\n",
       "    </tr>\n",
       "    <tr>\n",
       "      <th>std</th>\n",
       "      <td>12.442369</td>\n",
       "      <td>17.255727</td>\n",
       "      <td>8.586242</td>\n",
       "      <td>3.070218</td>\n",
       "      <td>8.258063</td>\n",
       "      <td>240.803001</td>\n",
       "      <td>8.596208</td>\n",
       "      <td>0.495477</td>\n",
       "    </tr>\n",
       "    <tr>\n",
       "      <th>min</th>\n",
       "      <td>18.000000</td>\n",
       "      <td>1.000000</td>\n",
       "      <td>1.000000</td>\n",
       "      <td>0.000000</td>\n",
       "      <td>0.000000</td>\n",
       "      <td>100.000000</td>\n",
       "      <td>1.000000</td>\n",
       "      <td>0.000000</td>\n",
       "    </tr>\n",
       "    <tr>\n",
       "      <th>25%</th>\n",
       "      <td>29.000000</td>\n",
       "      <td>16.000000</td>\n",
       "      <td>9.000000</td>\n",
       "      <td>1.000000</td>\n",
       "      <td>6.000000</td>\n",
       "      <td>480.000000</td>\n",
       "      <td>7.000000</td>\n",
       "      <td>0.000000</td>\n",
       "    </tr>\n",
       "    <tr>\n",
       "      <th>50%</th>\n",
       "      <td>39.000000</td>\n",
       "      <td>32.000000</td>\n",
       "      <td>16.000000</td>\n",
       "      <td>3.000000</td>\n",
       "      <td>12.000000</td>\n",
       "      <td>661.000000</td>\n",
       "      <td>14.000000</td>\n",
       "      <td>1.000000</td>\n",
       "    </tr>\n",
       "    <tr>\n",
       "      <th>75%</th>\n",
       "      <td>48.000000</td>\n",
       "      <td>46.000000</td>\n",
       "      <td>23.000000</td>\n",
       "      <td>6.000000</td>\n",
       "      <td>19.000000</td>\n",
       "      <td>830.000000</td>\n",
       "      <td>22.000000</td>\n",
       "      <td>1.000000</td>\n",
       "    </tr>\n",
       "    <tr>\n",
       "      <th>max</th>\n",
       "      <td>65.000000</td>\n",
       "      <td>60.000000</td>\n",
       "      <td>30.000000</td>\n",
       "      <td>10.000000</td>\n",
       "      <td>30.000000</td>\n",
       "      <td>1000.000000</td>\n",
       "      <td>30.000000</td>\n",
       "      <td>1.000000</td>\n",
       "    </tr>\n",
       "  </tbody>\n",
       "</table>\n",
       "</div>"
      ],
      "text/plain": [
       "                 Age         Tenure  Usage Frequency  Support Calls  \\\n",
       "count  440832.000000  440832.000000    440832.000000  440832.000000   \n",
       "mean       39.373153      31.256336        15.807494       3.604437   \n",
       "std        12.442369      17.255727         8.586242       3.070218   \n",
       "min        18.000000       1.000000         1.000000       0.000000   \n",
       "25%        29.000000      16.000000         9.000000       1.000000   \n",
       "50%        39.000000      32.000000        16.000000       3.000000   \n",
       "75%        48.000000      46.000000        23.000000       6.000000   \n",
       "max        65.000000      60.000000        30.000000      10.000000   \n",
       "\n",
       "       Payment Delay    Total Spend  Last Interaction          Churn  \n",
       "count  440832.000000  440832.000000     440832.000000  440832.000000  \n",
       "mean       12.965722     631.616223         14.480868       0.567107  \n",
       "std         8.258063     240.803001          8.596208       0.495477  \n",
       "min         0.000000     100.000000          1.000000       0.000000  \n",
       "25%         6.000000     480.000000          7.000000       0.000000  \n",
       "50%        12.000000     661.000000         14.000000       1.000000  \n",
       "75%        19.000000     830.000000         22.000000       1.000000  \n",
       "max        30.000000    1000.000000         30.000000       1.000000  "
      ]
     },
     "execution_count": 16,
     "metadata": {},
     "output_type": "execute_result"
    }
   ],
   "source": [
    "df.describe()"
   ]
  },
  {
   "cell_type": "markdown",
   "id": "d017af0c-f327-4905-ac6b-d38f73d1d7ba",
   "metadata": {},
   "source": [
    "> The average customer is 39 years old with a tenure of 31 months.\n",
    "\n",
    "> On average, customers use the service 16 times monthly and make about 3 to 4 support calls.\n",
    "\n",
    "> Payment delays average 13 days but can be as high as 30 days.\n",
    "\n",
    "> Total spend ranges widely, averaging around 632 units.\n",
    "\n",
    "> About 57% of customers have churned, showing a moderate churn rate."
   ]
  },
  {
   "cell_type": "markdown",
   "id": "152eabc3-00ed-4430-b24c-3127f3c45341",
   "metadata": {},
   "source": [
    "#### Numerical Features - Analysis"
   ]
  },
  {
   "cell_type": "code",
   "execution_count": 102,
   "id": "aa8b39ca-cd31-4085-bd04-66f8d45ef0ca",
   "metadata": {},
   "outputs": [],
   "source": [
    "def plot_histogram(df,column_name):\n",
    "\n",
    "    plt.figure(figsize=(5,3))\n",
    "    sns.histplot(df[column_name],kde=True)\n",
    "    plt.title(f\"Distribution of {column_name}\")\n",
    "\n",
    "    # Calculate the Mean and Median Values for the columns\n",
    "    col_mean=df[column_name].mean()\n",
    "    col_median=df[column_name].median()\n",
    "\n",
    "    # add Vertical lines for Mean and Median\n",
    "    plt.axvline(col_mean,color='red',linestyle='--',label='Mean')\n",
    "    plt.axvline(col_median,color='green',linestyle='--',label='Median')\n",
    "   \n",
    "    plt.legend()\n",
    "    plt.show()"
   ]
  },
  {
   "cell_type": "code",
   "execution_count": 18,
   "id": "6214c2dd-e6c7-4dbd-8db8-42ecad5e5c98",
   "metadata": {},
   "outputs": [
    {
     "data": {
      "image/png": "[encoded data removed]",
      "text/plain": [
       "<Figure size 500x300 with 1 Axes>"
      ]
     },
     "metadata": {},
     "output_type": "display_data"
    }
   ],
   "source": [
    "plot_histogram(df,\"Tenure\")"
   ]
  },
  {
   "cell_type": "code",
   "execution_count": 19,
   "id": "23d1df4a-2295-4b7c-acce-eddca0e52534",
   "metadata": {},
   "outputs": [
    {
     "data": {
      "image/png": "[encoded data removed]",
      "text/plain": [
       "<Figure size 500x300 with 1 Axes>"
      ]
     },
     "metadata": {},
     "output_type": "display_data"
    }
   ],
   "source": [
    "plot_histogram(df,\"Usage Frequency\")"
   ]
  },
  {
   "cell_type": "code",
   "execution_count": 20,
   "id": "6855b7ff-1167-4803-891b-b3ee6221cff5",
   "metadata": {},
   "outputs": [
    {
     "data": {
      "image/png": "[encoded data removed]",
      "text/plain": [
       "<Figure size 500x300 with 1 Axes>"
      ]
     },
     "metadata": {},
     "output_type": "display_data"
    }
   ],
   "source": [
    "plot_histogram(df,\"Total Spend\")"
   ]
  },
  {
   "cell_type": "code",
   "execution_count": 104,
   "id": "440e94ef-9977-4e00-9d18-353317098a5b",
   "metadata": {},
   "outputs": [
    {
     "data": {
      "image/png": "[encoded data removed]",
      "text/plain": [
       "<Figure size 500x300 with 1 Axes>"
      ]
     },
     "metadata": {},
     "output_type": "display_data"
    }
   ],
   "source": [
    "plot_histogram(df,'Age')"
   ]
  },
  {
   "cell_type": "markdown",
   "id": "2f42784b-8a4d-4e32-ac50-ffeb596ebb7d",
   "metadata": {},
   "source": [
    "#### Box plot for Numerical Features"
   ]
  },
  {
   "cell_type": "code",
   "execution_count": 21,
   "id": "4bac3b9b-31d2-4498-97ff-24fd043d634d",
   "metadata": {},
   "outputs": [],
   "source": [
    "def plot_boxplot(df, column_name):\n",
    "    plt.figure(figsize=(5,3))\n",
    "    sns.boxplot(y=df[column_name])\n",
    "    plt.title(f\"Box plot of {column_name}\")\n",
    "    plt.ylabel(column_name)\n",
    "    plt.show()"
   ]
  },
  {
   "cell_type": "code",
   "execution_count": 22,
   "id": "4018c6c8-242e-43ed-aa69-d7b276f80265",
   "metadata": {},
   "outputs": [
    {
     "data": {
      "image/png": "[encoded data removed]",
      "text/plain": [
       "<Figure size 500x300 with 1 Axes>"
      ]
     },
     "metadata": {},
     "output_type": "display_data"
    }
   ],
   "source": [
    "plot_boxplot(df,\"Tenure\")"
   ]
  },
  {
   "cell_type": "code",
   "execution_count": 23,
   "id": "3fdd8a90-b6cb-4e8f-b827-dbe3b61e6c13",
   "metadata": {},
   "outputs": [
    {
     "data": {
      "image/png": "[encoded data removed]",
      "text/plain": [
       "<Figure size 500x300 with 1 Axes>"
      ]
     },
     "metadata": {},
     "output_type": "display_data"
    }
   ],
   "source": [
    "plot_boxplot(df,\"Usage Frequency\")"
   ]
  },
  {
   "cell_type": "code",
   "execution_count": 162,
   "id": "2ba05e37-a593-422f-a227-2002fcab09a5",
   "metadata": {},
   "outputs": [
    {
     "data": {
      "image/png": "[encoded data removed]",
      "text/plain": [
       "<Figure size 800x500 with 1 Axes>"
      ]
     },
     "metadata": {},
     "output_type": "display_data"
    }
   ],
   "source": [
    "# Tenure Distribtion by Churn\n",
    "plt.figure(figsize=(8,5))\n",
    "sns.boxplot(data=df, x='Churn', y='Tenure')\n",
    "plt.title('Tenure Distribution by Churn')\n",
    "plt.show()\n"
   ]
  },
  {
   "cell_type": "code",
   "execution_count": 163,
   "id": "eb3dc07d-0469-4c34-be0a-98d5b875953e",
   "metadata": {},
   "outputs": [
    {
     "data": {
      "image/png": "[encoded data removed]",
      "text/plain": [
       "<Figure size 800x500 with 1 Axes>"
      ]
     },
     "metadata": {},
     "output_type": "display_data"
    }
   ],
   "source": [
    "# payment Delay Distribution by churn\n",
    "plt.figure(figsize=(8,5))\n",
    "sns.kdeplot(data=df, x='Payment Delay', hue='Churn', fill=True)\n",
    "plt.title('Payment Delay Distribution by Churn')\n",
    "plt.show()\n"
   ]
  },
  {
   "cell_type": "markdown",
   "id": "67ac13cb-9a54-4c04-b1c8-8e6fdabe6916",
   "metadata": {},
   "source": [
    "#### Correlation Heatmap of the NUmerical Variables"
   ]
  },
  {
   "cell_type": "code",
   "execution_count": 115,
   "id": "e4c5c555-5aeb-4dfe-9bfe-b35105098752",
   "metadata": {},
   "outputs": [
    {
     "data": {
      "image/png": "[encoded data removed]",
      "text/plain": [
       "<Figure size 800x400 with 2 Axes>"
      ]
     },
     "metadata": {},
     "output_type": "display_data"
    }
   ],
   "source": [
    "# Correlation matrix - heatmap\n",
    "plt.figure(figsize=(8,4))\n",
    "sns.heatmap(df[[\"Tenure\",\"Usage Frequency\",\"Total Spend\"]].corr(),annot=True,cmap=\"coolwarm\")\n",
    "plt.title(\"Correlation Heatmap\")\n",
    "plt.show()"
   ]
  },
  {
   "cell_type": "markdown",
   "id": "868f2f6a-db21-4e06-952f-3857223076d7",
   "metadata": {},
   "source": [
    "### 4. Data Preprocessing"
   ]
  },
  {
   "cell_type": "code",
   "execution_count": 25,
   "id": "3ac3a94c-def9-4f9c-b964-d1b70ce78510",
   "metadata": {},
   "outputs": [
    {
     "data": {
      "text/html": [
       "<div>\n",
       "<style scoped>\n",
       "    .dataframe tbody tr th:only-of-type {\n",
       "        vertical-align: middle;\n",
       "    }\n",
       "\n",
       "    .dataframe tbody tr th {\n",
       "        vertical-align: top;\n",
       "    }\n",
       "\n",
       "    .dataframe thead th {\n",
       "        text-align: right;\n",
       "    }\n",
       "</style>\n",
       "<table border=\"1\" class=\"dataframe\">\n",
       "  <thead>\n",
       "    <tr style=\"text-align: right;\">\n",
       "      <th></th>\n",
       "      <th>Age</th>\n",
       "      <th>Gender</th>\n",
       "      <th>Tenure</th>\n",
       "      <th>Usage Frequency</th>\n",
       "      <th>Support Calls</th>\n",
       "      <th>Payment Delay</th>\n",
       "      <th>Subscription Type</th>\n",
       "      <th>Contract Length</th>\n",
       "      <th>Total Spend</th>\n",
       "      <th>Last Interaction</th>\n",
       "      <th>Churn</th>\n",
       "    </tr>\n",
       "  </thead>\n",
       "  <tbody>\n",
       "    <tr>\n",
       "      <th>0</th>\n",
       "      <td>30.0</td>\n",
       "      <td>Female</td>\n",
       "      <td>39.0</td>\n",
       "      <td>14.0</td>\n",
       "      <td>5.0</td>\n",
       "      <td>18.0</td>\n",
       "      <td>Standard</td>\n",
       "      <td>Annual</td>\n",
       "      <td>932.0</td>\n",
       "      <td>17.0</td>\n",
       "      <td>1.0</td>\n",
       "    </tr>\n",
       "    <tr>\n",
       "      <th>1</th>\n",
       "      <td>65.0</td>\n",
       "      <td>Female</td>\n",
       "      <td>49.0</td>\n",
       "      <td>1.0</td>\n",
       "      <td>10.0</td>\n",
       "      <td>8.0</td>\n",
       "      <td>Basic</td>\n",
       "      <td>Monthly</td>\n",
       "      <td>557.0</td>\n",
       "      <td>6.0</td>\n",
       "      <td>1.0</td>\n",
       "    </tr>\n",
       "    <tr>\n",
       "      <th>2</th>\n",
       "      <td>55.0</td>\n",
       "      <td>Female</td>\n",
       "      <td>14.0</td>\n",
       "      <td>4.0</td>\n",
       "      <td>6.0</td>\n",
       "      <td>18.0</td>\n",
       "      <td>Basic</td>\n",
       "      <td>Quarterly</td>\n",
       "      <td>185.0</td>\n",
       "      <td>3.0</td>\n",
       "      <td>1.0</td>\n",
       "    </tr>\n",
       "  </tbody>\n",
       "</table>\n",
       "</div>"
      ],
      "text/plain": [
       "    Age  Gender  Tenure  Usage Frequency  Support Calls  Payment Delay  \\\n",
       "0  30.0  Female    39.0             14.0            5.0           18.0   \n",
       "1  65.0  Female    49.0              1.0           10.0            8.0   \n",
       "2  55.0  Female    14.0              4.0            6.0           18.0   \n",
       "\n",
       "  Subscription Type Contract Length  Total Spend  Last Interaction  Churn  \n",
       "0          Standard          Annual        932.0              17.0    1.0  \n",
       "1             Basic         Monthly        557.0               6.0    1.0  \n",
       "2             Basic       Quarterly        185.0               3.0    1.0  "
      ]
     },
     "execution_count": 25,
     "metadata": {},
     "output_type": "execute_result"
    }
   ],
   "source": [
    "df.head(3)"
   ]
  },
  {
   "cell_type": "markdown",
   "id": "cbd52ed6-e62a-497d-b44f-ca51b8b706b5",
   "metadata": {},
   "source": [
    "#### Label encoding of Target columns"
   ]
  },
  {
   "cell_type": "code",
   "execution_count": 42,
   "id": "79823d33-cb10-44de-80ee-bab8bf95c8df",
   "metadata": {},
   "outputs": [
    {
     "data": {
      "text/html": [
       "<div>\n",
       "<style scoped>\n",
       "    .dataframe tbody tr th:only-of-type {\n",
       "        vertical-align: middle;\n",
       "    }\n",
       "\n",
       "    .dataframe tbody tr th {\n",
       "        vertical-align: top;\n",
       "    }\n",
       "\n",
       "    .dataframe thead th {\n",
       "        text-align: right;\n",
       "    }\n",
       "</style>\n",
       "<table border=\"1\" class=\"dataframe\">\n",
       "  <thead>\n",
       "    <tr style=\"text-align: right;\">\n",
       "      <th></th>\n",
       "      <th>Age</th>\n",
       "      <th>Gender</th>\n",
       "      <th>Tenure</th>\n",
       "      <th>Usage Frequency</th>\n",
       "      <th>Support Calls</th>\n",
       "      <th>Payment Delay</th>\n",
       "      <th>Subscription Type</th>\n",
       "      <th>Contract Length</th>\n",
       "      <th>Total Spend</th>\n",
       "      <th>Last Interaction</th>\n",
       "      <th>Churn</th>\n",
       "    </tr>\n",
       "  </thead>\n",
       "  <tbody>\n",
       "    <tr>\n",
       "      <th>258781</th>\n",
       "      <td>38.0</td>\n",
       "      <td>1</td>\n",
       "      <td>25.0</td>\n",
       "      <td>20.0</td>\n",
       "      <td>1.0</td>\n",
       "      <td>10.0</td>\n",
       "      <td>0</td>\n",
       "      <td>0</td>\n",
       "      <td>521.67</td>\n",
       "      <td>27.0</td>\n",
       "      <td>0.0</td>\n",
       "    </tr>\n",
       "    <tr>\n",
       "      <th>171811</th>\n",
       "      <td>36.0</td>\n",
       "      <td>0</td>\n",
       "      <td>23.0</td>\n",
       "      <td>4.0</td>\n",
       "      <td>1.0</td>\n",
       "      <td>5.0</td>\n",
       "      <td>1</td>\n",
       "      <td>1</td>\n",
       "      <td>179.00</td>\n",
       "      <td>25.0</td>\n",
       "      <td>1.0</td>\n",
       "    </tr>\n",
       "    <tr>\n",
       "      <th>235121</th>\n",
       "      <td>59.0</td>\n",
       "      <td>1</td>\n",
       "      <td>33.0</td>\n",
       "      <td>7.0</td>\n",
       "      <td>6.0</td>\n",
       "      <td>12.0</td>\n",
       "      <td>1</td>\n",
       "      <td>1</td>\n",
       "      <td>102.26</td>\n",
       "      <td>18.0</td>\n",
       "      <td>1.0</td>\n",
       "    </tr>\n",
       "  </tbody>\n",
       "</table>\n",
       "</div>"
      ],
      "text/plain": [
       "         Age  Gender  Tenure  Usage Frequency  Support Calls  Payment Delay  \\\n",
       "258781  38.0       1    25.0             20.0            1.0           10.0   \n",
       "171811  36.0       0    23.0              4.0            1.0            5.0   \n",
       "235121  59.0       1    33.0              7.0            6.0           12.0   \n",
       "\n",
       "        Subscription Type  Contract Length  Total Spend  Last Interaction  \\\n",
       "258781                  0                0       521.67              27.0   \n",
       "171811                  1                1       179.00              25.0   \n",
       "235121                  1                1       102.26              18.0   \n",
       "\n",
       "        Churn  \n",
       "258781    0.0  \n",
       "171811    1.0  \n",
       "235121    1.0  "
      ]
     },
     "execution_count": 42,
     "metadata": {},
     "output_type": "execute_result"
    }
   ],
   "source": [
    "df.sample(3)"
   ]
  },
  {
   "cell_type": "code",
   "execution_count": 150,
   "id": "2a9eb873-9a05-4f69-8822-45dbe646df90",
   "metadata": {},
   "outputs": [
    {
     "name": "stdout",
     "output_type": "stream",
     "text": [
      "Churn\n",
      "1.0    249999\n",
      "0.0    190833\n",
      "Name: count, dtype: int64\n"
     ]
    }
   ],
   "source": [
    "print(df[\"Churn\"].value_counts())"
   ]
  },
  {
   "cell_type": "markdown",
   "id": "8a770559-0ce6-4534-a709-0e819ad94221",
   "metadata": {},
   "source": [
    "#### Train and Test data split"
   ]
  },
  {
   "cell_type": "code",
   "execution_count": 44,
   "id": "f02ac1fd-0ed3-414a-bb21-4d92fa57d452",
   "metadata": {},
   "outputs": [],
   "source": [
    "# spliting the features and Target\n",
    "x=df.drop(columns=[\"Churn\"])\n",
    "y=df[\"Churn\"]"
   ]
  },
  {
   "cell_type": "code",
   "execution_count": 71,
   "id": "8b5df8ee-ee96-441c-98f1-ade1cc6856b1",
   "metadata": {},
   "outputs": [],
   "source": [
    "# Spliting the data \n",
    "x_train,x_test,y_train,y_test=train_test_split(x,y,test_size=0.2,random_state=42)"
   ]
  },
  {
   "cell_type": "code",
   "execution_count": 46,
   "id": "f2c4655d-9c1a-48a0-a5c1-d5f4bbd4a4ce",
   "metadata": {},
   "outputs": [
    {
     "name": "stdout",
     "output_type": "stream",
     "text": [
      "(352665,)\n"
     ]
    }
   ],
   "source": [
    "print(y_train.shape)"
   ]
  },
  {
   "cell_type": "code",
   "execution_count": 47,
   "id": "5d55390c-799a-4b19-90e6-c00742607e9d",
   "metadata": {},
   "outputs": [
    {
     "name": "stdout",
     "output_type": "stream",
     "text": [
      "Churn\n",
      "1.0    199895\n",
      "0.0    152770\n",
      "Name: count, dtype: int64\n"
     ]
    }
   ],
   "source": [
    "print(y_train.value_counts())"
   ]
  },
  {
   "cell_type": "markdown",
   "id": "00613d4f-85db-4b68-81df-b55532869c08",
   "metadata": {},
   "source": [
    "#### Label encoding of categorical features"
   ]
  },
  {
   "cell_type": "code",
   "execution_count": 151,
   "id": "e6be8609-3a4f-4bae-b1e8-9357128b2b48",
   "metadata": {},
   "outputs": [],
   "source": [
    "# identifying columns with object data type\n",
    "object_columns=df.select_dtypes(include=\"object\").columns"
   ]
  },
  {
   "cell_type": "code",
   "execution_count": 152,
   "id": "66b66924-5366-49df-acde-4c943ad6d0c5",
   "metadata": {},
   "outputs": [
    {
     "name": "stdout",
     "output_type": "stream",
     "text": [
      "Index(['Gender', 'Subscription Type', 'Contract Length'], dtype='object')\n"
     ]
    }
   ],
   "source": [
    "print(object_columns)"
   ]
  },
  {
   "cell_type": "code",
   "execution_count": 153,
   "id": "f050d868-acbb-4aae-8279-1c0a1ebc2989",
   "metadata": {},
   "outputs": [
    {
     "name": "stdout",
     "output_type": "stream",
     "text": [
      "<class 'pandas.core.frame.DataFrame'>\n",
      "Index: 440832 entries, 0 to 440832\n",
      "Data columns (total 11 columns):\n",
      " #   Column             Non-Null Count   Dtype  \n",
      "---  ------             --------------   -----  \n",
      " 0   Age                440832 non-null  float64\n",
      " 1   Gender             440832 non-null  object \n",
      " 2   Tenure             440832 non-null  float64\n",
      " 3   Usage Frequency    440832 non-null  float64\n",
      " 4   Support Calls      440832 non-null  float64\n",
      " 5   Payment Delay      440832 non-null  float64\n",
      " 6   Subscription Type  440832 non-null  object \n",
      " 7   Contract Length    440832 non-null  object \n",
      " 8   Total Spend        440832 non-null  float64\n",
      " 9   Last Interaction   440832 non-null  float64\n",
      " 10  Churn              440832 non-null  float64\n",
      "dtypes: float64(8), object(3)\n",
      "memory usage: 40.4+ MB\n"
     ]
    }
   ],
   "source": [
    "df.info()"
   ]
  },
  {
   "cell_type": "code",
   "execution_count": 154,
   "id": "b873891f-1e73-475b-a96b-15da3c372a08",
   "metadata": {},
   "outputs": [],
   "source": [
    "# initialize a dictionary to save the encoders\n",
    "encoders = {}\n",
    "\n",
    "# apply label encoding and store the encoders\n",
    "for column in object_columns:\n",
    "  label_encoder = LabelEncoder()\n",
    "  df[column] = label_encoder.fit_transform(df[column].astype(str))\n",
    "  encoders[column] = label_encoder\n",
    "\n",
    "\n",
    "# save the encoders to a pickle file\n",
    "with open(\"encoders.pkl\", \"wb\") as f:\n",
    "  pickle.dump(encoders, f)"
   ]
  },
  {
   "cell_type": "code",
   "execution_count": 155,
   "id": "d7690b56-cc49-4fd4-9a1f-a9b94e16803d",
   "metadata": {},
   "outputs": [
    {
     "data": {
      "text/plain": [
       "{'Gender': LabelEncoder(),\n",
       " 'Subscription Type': LabelEncoder(),\n",
       " 'Contract Length': LabelEncoder()}"
      ]
     },
     "execution_count": 155,
     "metadata": {},
     "output_type": "execute_result"
    }
   ],
   "source": [
    "encoders"
   ]
  },
  {
   "cell_type": "code",
   "execution_count": 156,
   "id": "13c213de-d2b2-402d-8cab-99d5d7a7be95",
   "metadata": {},
   "outputs": [
    {
     "data": {
      "text/html": [
       "<div>\n",
       "<style scoped>\n",
       "    .dataframe tbody tr th:only-of-type {\n",
       "        vertical-align: middle;\n",
       "    }\n",
       "\n",
       "    .dataframe tbody tr th {\n",
       "        vertical-align: top;\n",
       "    }\n",
       "\n",
       "    .dataframe thead th {\n",
       "        text-align: right;\n",
       "    }\n",
       "</style>\n",
       "<table border=\"1\" class=\"dataframe\">\n",
       "  <thead>\n",
       "    <tr style=\"text-align: right;\">\n",
       "      <th></th>\n",
       "      <th>Age</th>\n",
       "      <th>Gender</th>\n",
       "      <th>Tenure</th>\n",
       "      <th>Usage Frequency</th>\n",
       "      <th>Support Calls</th>\n",
       "      <th>Payment Delay</th>\n",
       "      <th>Subscription Type</th>\n",
       "      <th>Contract Length</th>\n",
       "      <th>Total Spend</th>\n",
       "      <th>Last Interaction</th>\n",
       "      <th>Churn</th>\n",
       "    </tr>\n",
       "  </thead>\n",
       "  <tbody>\n",
       "    <tr>\n",
       "      <th>0</th>\n",
       "      <td>30.0</td>\n",
       "      <td>0</td>\n",
       "      <td>39.0</td>\n",
       "      <td>14.0</td>\n",
       "      <td>5.0</td>\n",
       "      <td>18.0</td>\n",
       "      <td>2</td>\n",
       "      <td>0</td>\n",
       "      <td>932.0</td>\n",
       "      <td>17.0</td>\n",
       "      <td>1.0</td>\n",
       "    </tr>\n",
       "    <tr>\n",
       "      <th>1</th>\n",
       "      <td>65.0</td>\n",
       "      <td>0</td>\n",
       "      <td>49.0</td>\n",
       "      <td>1.0</td>\n",
       "      <td>10.0</td>\n",
       "      <td>8.0</td>\n",
       "      <td>0</td>\n",
       "      <td>1</td>\n",
       "      <td>557.0</td>\n",
       "      <td>6.0</td>\n",
       "      <td>1.0</td>\n",
       "    </tr>\n",
       "    <tr>\n",
       "      <th>2</th>\n",
       "      <td>55.0</td>\n",
       "      <td>0</td>\n",
       "      <td>14.0</td>\n",
       "      <td>4.0</td>\n",
       "      <td>6.0</td>\n",
       "      <td>18.0</td>\n",
       "      <td>0</td>\n",
       "      <td>2</td>\n",
       "      <td>185.0</td>\n",
       "      <td>3.0</td>\n",
       "      <td>1.0</td>\n",
       "    </tr>\n",
       "    <tr>\n",
       "      <th>3</th>\n",
       "      <td>58.0</td>\n",
       "      <td>1</td>\n",
       "      <td>38.0</td>\n",
       "      <td>21.0</td>\n",
       "      <td>7.0</td>\n",
       "      <td>7.0</td>\n",
       "      <td>2</td>\n",
       "      <td>1</td>\n",
       "      <td>396.0</td>\n",
       "      <td>29.0</td>\n",
       "      <td>1.0</td>\n",
       "    </tr>\n",
       "    <tr>\n",
       "      <th>4</th>\n",
       "      <td>23.0</td>\n",
       "      <td>1</td>\n",
       "      <td>32.0</td>\n",
       "      <td>20.0</td>\n",
       "      <td>5.0</td>\n",
       "      <td>8.0</td>\n",
       "      <td>0</td>\n",
       "      <td>1</td>\n",
       "      <td>617.0</td>\n",
       "      <td>20.0</td>\n",
       "      <td>1.0</td>\n",
       "    </tr>\n",
       "  </tbody>\n",
       "</table>\n",
       "</div>"
      ],
      "text/plain": [
       "    Age  Gender  Tenure  Usage Frequency  Support Calls  Payment Delay  \\\n",
       "0  30.0       0    39.0             14.0            5.0           18.0   \n",
       "1  65.0       0    49.0              1.0           10.0            8.0   \n",
       "2  55.0       0    14.0              4.0            6.0           18.0   \n",
       "3  58.0       1    38.0             21.0            7.0            7.0   \n",
       "4  23.0       1    32.0             20.0            5.0            8.0   \n",
       "\n",
       "   Subscription Type  Contract Length  Total Spend  Last Interaction  Churn  \n",
       "0                  2                0        932.0              17.0    1.0  \n",
       "1                  0                1        557.0               6.0    1.0  \n",
       "2                  0                2        185.0               3.0    1.0  \n",
       "3                  2                1        396.0              29.0    1.0  \n",
       "4                  0                1        617.0              20.0    1.0  "
      ]
     },
     "execution_count": 156,
     "metadata": {},
     "output_type": "execute_result"
    }
   ],
   "source": [
    "df.head()"
   ]
  },
  {
   "cell_type": "markdown",
   "id": "2df0f32a-e1d2-4e8e-b060-2556319b8113",
   "metadata": {},
   "source": [
    "### 5. Model Training"
   ]
  },
  {
   "cell_type": "code",
   "execution_count": 81,
   "id": "acf88179-ac47-4c56-8c28-dca6080f4ccb",
   "metadata": {},
   "outputs": [
    {
     "name": "stdout",
     "output_type": "stream",
     "text": [
      "Training Logistic Regression...\n",
      "Training Decision Tree...\n",
      "Training Random Forest...\n",
      "Training Gradient Boosting...\n",
      "Training AdaBoost...\n"
     ]
    },
    {
     "name": "stderr",
     "output_type": "stream",
     "text": [
      "C:\\Users\\owais\\n\\Lib\\site-packages\\sklearn\\ensemble\\_weight_boosting.py:527: FutureWarning: The SAMME.R algorithm (the default) is deprecated and will be removed in 1.6. Use the SAMME algorithm to circumvent this warning.\n",
      "  warnings.warn(\n"
     ]
    },
    {
     "name": "stdout",
     "output_type": "stream",
     "text": [
      "Training XGBoost...\n"
     ]
    },
    {
     "name": "stderr",
     "output_type": "stream",
     "text": [
      "C:\\Users\\owais\\n\\Lib\\site-packages\\xgboost\\core.py:158: UserWarning: [16:26:33] WARNING: C:\\buildkite-agent\\builds\\buildkite-windows-cpu-autoscaling-group-i-08cbc0333d8d4aae1-1\\xgboost\\xgboost-ci-windows\\src\\learner.cc:740: \n",
      "Parameters: { \"use_label_encoder\" } are not used.\n",
      "\n",
      "  warnings.warn(smsg, UserWarning)\n"
     ]
    },
    {
     "name": "stdout",
     "output_type": "stream",
     "text": [
      "Training Gaussian NB...\n",
      "Training QDA...\n",
      "Training Ridge Classifier...\n",
      "Training Extra Trees...\n",
      "Training Passive Aggressive...\n",
      "Training Bagging...\n",
      "Training MLP (Shallow NN)...\n",
      "\n",
      "=== Model Comparison Table ===\n",
      "                     Accuracy  Precision  Recall  F1 Score  ROC AUC  \\\n",
      "Bagging                0.9972     0.9999  0.9951    0.9975   1.0000   \n",
      "Gradient Boosting      0.9700     0.9948  0.9521    0.9729   0.9971   \n",
      "AdaBoost               0.9697     0.9965  0.9499    0.9727   0.9960   \n",
      "XGBoost                0.9652     0.9948  0.9435    0.9685   0.9971   \n",
      "Random Forest          0.9576     0.9947  0.9302    0.9614   0.9967   \n",
      "MLP (Shallow NN)       0.9571     0.9917  0.9321    0.9610   0.9845   \n",
      "Decision Tree          0.9546     0.9999  0.9200    0.9583   0.9669   \n",
      "Extra Trees            0.9405     0.9921  0.9022    0.9450   0.9912   \n",
      "QDA                    0.9255     0.9748  0.8916    0.9314   0.9753   \n",
      "Gaussian NB            0.9056     0.9586  0.8711    0.9127   0.9652   \n",
      "Logistic Regression    0.8517     0.9023  0.8281    0.8636   0.9274   \n",
      "Ridge Classifier       0.8462     0.9339  0.7844    0.8526      NaN   \n",
      "Passive Aggressive     0.7733     0.9872  0.6082    0.7527      NaN   \n",
      "\n",
      "                     Specificity  Balanced Accuracy     MCC  Time (s)  \n",
      "Bagging                   0.9999             0.9975  0.9943     23.87  \n",
      "Gradient Boosting         0.9934             0.9728  0.9404    108.57  \n",
      "AdaBoost                  0.9957             0.9728  0.9401     54.74  \n",
      "XGBoost                   0.9935             0.9685  0.9312      1.36  \n",
      "Random Forest             0.9934             0.9618  0.9170      7.22  \n",
      "MLP (Shallow NN)          0.9898             0.9609  0.9155   1238.72  \n",
      "Decision Tree             0.9999             0.9599  0.9124      1.73  \n",
      "Extra Trees               0.9906             0.9464  0.8852      5.16  \n",
      "QDA                       0.9698             0.9307  0.8543      0.55  \n",
      "Gaussian NB               0.9507             0.9109  0.8147      0.32  \n",
      "Logistic Regression       0.8825             0.8553  0.7048      5.62  \n",
      "Ridge Classifier          0.9273             0.8558  0.7060      0.44  \n",
      "Passive Aggressive        0.9897             0.7989  0.6213      1.99  \n"
     ]
    }
   ],
   "source": [
    "def specificity_score(y_true, y_pred):\n",
    "    tn, fp, fn, tp = confusion_matrix(y_true, y_pred).ravel()\n",
    "    return tn / (tn + fp)\n",
    "\n",
    "def evaluate_model(name, model, x_train, y_train, x_test, y_test):\n",
    "    start = time.time()\n",
    "    model.fit(x_train, y_train)\n",
    "    fit_time = round(time.time() - start, 2)\n",
    "\n",
    "    y_pred = model.predict(x_test)\n",
    "    if hasattr(model, \"predict_proba\"):\n",
    "        y_proba = model.predict_proba(x_test)[:, 1]\n",
    "        roc_auc = roc_auc_score(y_test, y_proba)\n",
    "    else:\n",
    "        roc_auc = float('nan')\n",
    "\n",
    "    metrics = {\n",
    "        \"Accuracy\": accuracy_score(y_test, y_pred),\n",
    "        \"Precision\": precision_score(y_test, y_pred),\n",
    "        \"Recall\": recall_score(y_test, y_pred),\n",
    "        \"F1 Score\": f1_score(y_test, y_pred),\n",
    "        \"ROC AUC\": roc_auc,\n",
    "        \"Specificity\": specificity_score(y_test, y_pred),\n",
    "        \"Balanced Accuracy\": balanced_accuracy_score(y_test, y_pred),\n",
    "        \"MCC\": matthews_corrcoef(y_test, y_pred),\n",
    "        \"Time (s)\": fit_time\n",
    "    }\n",
    "    return name, metrics\n",
    "models = {\n",
    "    \"Logistic Regression\": LogisticRegression(max_iter=200, solver='liblinear', random_state=42),\n",
    "    \"Decision Tree\": DecisionTreeClassifier(max_depth=5, min_samples_leaf=20, random_state=42),\n",
    "    \"Random Forest\": RandomForestClassifier(n_estimators=50, max_depth=6, min_samples_split=20, n_jobs=-1, random_state=42),\n",
    "    \"Gradient Boosting\": GradientBoostingClassifier(n_estimators=50, max_depth=3, random_state=42),\n",
    "    \"AdaBoost\": AdaBoostClassifier(n_estimators=50, random_state=42),\n",
    "    \"XGBoost\": XGBClassifier(n_estimators=50, max_depth=3, learning_rate=0.1, use_label_encoder=False, eval_metric='logloss', n_jobs=-1, random_state=42),\n",
    "    \"Gaussian NB\": GaussianNB(),\n",
    "    \"QDA\": QuadraticDiscriminantAnalysis(),\n",
    "    \"Ridge Classifier\": RidgeClassifier(max_iter=200, random_state=42),\n",
    "    \"Extra Trees\": ExtraTreesClassifier(n_estimators=50, max_depth=6, n_jobs=-1, random_state=42),\n",
    "    \"Passive Aggressive\": PassiveAggressiveClassifier(max_iter=200, random_state=42),\n",
    "    \"Bagging\": BaggingClassifier(n_estimators=30, n_jobs=-1, random_state=42),\n",
    "    \"MLP (Shallow NN)\": MLPClassifier(max_iter=300, hidden_layer_sizes=(50,), random_state=42)\n",
    "}\n",
    "\n",
    "# === Train and evaluate ===\n",
    "results = []\n",
    "for name, model in models.items():\n",
    "    print(f\"Training {name}...\")\n",
    "    try:\n",
    "        model_name, metrics = evaluate_model(name, model, x_train, y_train, x_test, y_test)\n",
    "        results.append((model_name, metrics))\n",
    "    except Exception as e:\n",
    "        print(f\" Error with {name}: {e}\")\n",
    "\n",
    "# === Show comparison table ===\n",
    "metrics_df = pd.DataFrame({name: metrics for name, metrics in results}).T.round(4)\n",
    "metrics_df = metrics_df.sort_values(\"F1 Score\", ascending=False)\n",
    "\n",
    "print(\"\\n=== Model Comparison Table ===\")\n",
    "print(metrics_df)\n"
   ]
  },
  {
   "cell_type": "code",
   "execution_count": 82,
   "id": "2d810906-c5e3-442f-87da-580e5af3a553",
   "metadata": {},
   "outputs": [],
   "source": [
    "# Save the result\n",
    "metrics_df.to_csv(\"model_comparison.csv\")\n"
   ]
  },
  {
   "cell_type": "code",
   "execution_count": 164,
   "id": "bb5a8792-c5ff-422e-8e18-71f291e31595",
   "metadata": {},
   "outputs": [
    {
     "data": {
      "image/png": "[encoded data removed]",
      "text/plain": [
       "<Figure size 1000x700 with 1 Axes>"
      ]
     },
     "metadata": {},
     "output_type": "display_data"
    }
   ],
   "source": [
    "# visualize the result\n",
    "metrics_df[['F1 Score', 'ROC AUC']].plot(kind='barh', figsize=(10, 7), colormap='viridis')\n",
    "plt.title(\"Model Performance Comparison\")\n",
    "plt.xlabel(\"Score / Time\")\n",
    "plt.grid(True)\n",
    "plt.tight_layout()\n",
    "plt.show()\n"
   ]
  },
  {
   "cell_type": "markdown",
   "id": "b5070579-1131-4581-937e-22a082465f61",
   "metadata": {},
   "source": [
    "Bagging Classifier achieved the highest performance overall with an F1 Score of 0.9975, ROC AUC of 1.0, and nearly perfect specificity and recall, making it ideal when both false positives and false negatives are costly.\n",
    "\n",
    "XGBoost showed an excellent balance of performance and speed, reaching an F1 Score of 0.9685 in just 1.36 seconds, making it a strong candidate for real-time or resource-constrained environments.\n",
    "\n",
    "Gradient Boosting and AdaBoost also delivered high F1 scores (~0.973), with very high precision, indicating their reliability in minimizing false positives.\n",
    "\n",
    "Logistic Regression and Ridge Classifier performed decently with F1 scores around 0.85 but lagged behind ensemble models, especially in handling complex decision boundaries.\n",
    "\n",
    "The MLP (Neural Network) performed well in terms of accuracy and F1 score but had the longest training time (~20 minutes), which may not be ideal for large-scale iterative training."
   ]
  },
  {
   "cell_type": "code",
   "execution_count": 85,
   "id": "7189f48d-cf5e-4dc9-bf28-59f1954d2358",
   "metadata": {},
   "outputs": [
    {
     "data": {
      "text/plain": [
       "['best_model_xgboost.pkl']"
      ]
     },
     "execution_count": 85,
     "metadata": {},
     "output_type": "execute_result"
    }
   ],
   "source": [
    "import joblib\n",
    "joblib.dump(models['XGBoost'], \"best_model_xgboost.pkl\")\n"
   ]
  },
  {
   "cell_type": "markdown",
   "id": "7143b67a-5ae1-4b1f-a4fa-8b2fe1754e97",
   "metadata": {},
   "source": [
    "### Feature Importance / SHAP Analysis"
   ]
  },
  {
   "cell_type": "code",
   "execution_count": 88,
   "id": "4e257c3b-966c-4425-8e92-5c0c25a304f8",
   "metadata": {},
   "outputs": [
    {
     "data": {
      "text/plain": [
       "<Axes: title={'center': 'Feature importance'}, xlabel='F score', ylabel='Features'>"
      ]
     },
     "execution_count": 88,
     "metadata": {},
     "output_type": "execute_result"
    },
    {
     "data": {
      "image/png": "[encoded data removed]",
      "text/plain": [
       "<Figure size 640x480 with 1 Axes>"
      ]
     },
     "metadata": {},
     "output_type": "display_data"
    }
   ],
   "source": [
    "from xgboost import plot_importance\n",
    "plot_importance(models['XGBoost'])\n"
   ]
  },
  {
   "cell_type": "code",
   "execution_count": 89,
   "id": "591e58d8-87da-4d75-93b5-695a60829c4a",
   "metadata": {},
   "outputs": [
    {
     "data": {
      "image/png": "[encoded data removed]",
      "text/plain": [
       "<Figure size 800x550 with 2 Axes>"
      ]
     },
     "metadata": {},
     "output_type": "display_data"
    }
   ],
   "source": [
    "import shap\n",
    "explainer = shap.Explainer(models['XGBoost'])\n",
    "shap_values = explainer(x_test)\n",
    "shap.plots.beeswarm(shap_values)\n"
   ]
  },
  {
   "cell_type": "markdown",
   "id": "9a761470-7f4e-4999-903a-1f2df0b6ef43",
   "metadata": {},
   "source": [
    "#### KNN ans SVM models"
   ]
  },
  {
   "cell_type": "code",
   "execution_count": 45,
   "id": "3920e8b5-59f9-4375-8f10-01e35c45a4be",
   "metadata": {},
   "outputs": [
    {
     "name": "stdout",
     "output_type": "stream",
     "text": [
      " Model Evaluation Metrics:\n",
      "Accuracy      : 88.82 %\n",
      "Precision     : 95.69 %\n",
      "Recall        : 84.11 %\n",
      "F1 Score      : 89.53 %\n",
      "ROC AUC Score : 93.52 %\n",
      "\n",
      " Confusion Matrix:\n",
      "[[36167  1896]\n",
      " [ 7963 42141]]\n",
      "\n",
      " Classification Report:\n",
      "              precision    recall  f1-score   support\n",
      "\n",
      "         0.0       0.82      0.95      0.88     38063\n",
      "         1.0       0.96      0.84      0.90     50104\n",
      "\n",
      "    accuracy                           0.89     88167\n",
      "   macro avg       0.89      0.90      0.89     88167\n",
      "weighted avg       0.90      0.89      0.89     88167\n",
      "\n"
     ]
    }
   ],
   "source": [
    "# Fit the KNN model\n",
    "from sklearn.metrics import accuracy_score, precision_score, recall_score, f1_score, roc_auc_score\n",
    "from sklearn.metrics import confusion_matrix, classification_report\n",
    "from sklearn.neighbors import KNeighborsClassifier\n",
    "\n",
    "# Fit the KNN model\n",
    "knn = KNeighborsClassifier(n_neighbors=3)\n",
    "knn.fit(x_train, y_train)\n",
    "\n",
    "# Predict class labels\n",
    "y_pred = knn.predict(x_test)\n",
    "\n",
    "# Predict probabilities (needed for AUC)\n",
    "y_proba = knn.predict_proba(x_test)[:, 1]\n",
    "\n",
    "# Calculate Metrics\n",
    "acc = accuracy_score(y_test, y_pred)\n",
    "prec = precision_score(y_test, y_pred)\n",
    "rec = recall_score(y_test, y_pred)\n",
    "f1 = f1_score(y_test, y_pred)\n",
    "auc = roc_auc_score(y_test, y_proba)\n",
    "cm = confusion_matrix(y_test, y_pred)\n",
    "\n",
    "# Print All Metrics\n",
    "print(\" Model Evaluation Metrics:\")\n",
    "print(\"Accuracy      :\", round(acc * 100, 2), \"%\")\n",
    "print(\"Precision     :\", round(prec * 100, 2), \"%\")\n",
    "print(\"Recall        :\", round(rec * 100, 2), \"%\")\n",
    "print(\"F1 Score      :\", round(f1 * 100, 2), \"%\")\n",
    "print(\"ROC AUC Score :\", round(auc * 100, 2), \"%\")\n",
    "\n",
    "print(\"\\n Confusion Matrix:\")\n",
    "print(cm)\n",
    "\n",
    "print(\"\\n Classification Report:\")\n",
    "print(classification_report(y_test, y_pred))\n",
    "\n"
   ]
  },
  {
   "cell_type": "code",
   "execution_count": 17,
   "id": "22091387-ef5e-4475-9df8-1abd3bd1070b",
   "metadata": {},
   "outputs": [
    {
     "name": "stdout",
     "output_type": "stream",
     "text": [
      "\n",
      "SVM Accuracy: 0.8766\n",
      "SVM Precision: 0.8861\n",
      "SVM Recall: 0.8766\n",
      "SVM F1 Score: 0.8772\n",
      "\n",
      "Classification Report:\n",
      "               precision    recall  f1-score   support\n",
      "\n",
      "         0.0       0.81      0.94      0.87     38063\n",
      "         1.0       0.95      0.83      0.88     50104\n",
      "\n",
      "    accuracy                           0.88     88167\n",
      "   macro avg       0.88      0.88      0.88     88167\n",
      "weighted avg       0.89      0.88      0.88     88167\n",
      "\n"
     ]
    }
   ],
   "source": [
    "# Support vector machine (SVM)\n",
    "from sklearn.svm import SVC\n",
    "svm = SVC(kernel='rbf', C=1, gamma='scale')\n",
    "svm.fit(x_train, y_train)\n",
    "y_pred_svm = svm.predict(x_test)\n",
    "\n",
    "# Overall Metrics\n",
    "accuracy = accuracy_score(y_test, y_pred_svm)\n",
    "precision = precision_score(y_test, y_pred_svm, average='weighted')  # or 'macro', 'micro'\n",
    "recall = recall_score(y_test, y_pred_svm, average='weighted')\n",
    "f1 = f1_score(y_test, y_pred_svm, average='weighted')\n",
    "\n",
    "print(f\"\\nSVM Accuracy: {accuracy:.4f}\")\n",
    "print(f\"SVM Precision: {precision:.4f}\")\n",
    "print(f\"SVM Recall: {recall:.4f}\")\n",
    "print(f\"SVM F1 Score: {f1:.4f}\")\n",
    "\n",
    "# Detailed classification report\n",
    "print(\"\\nClassification Report:\\n\", classification_report(y_test, y_pred_svm))\n"
   ]
  },
  {
   "cell_type": "markdown",
   "id": "97156842-8036-4060-9549-c64d9ac3c57f",
   "metadata": {},
   "source": [
    "### 6. Model Initialization and Hyperparameter Tuning for Random Forest, XGBoost, and Logistic Regression"
   ]
  },
  {
   "cell_type": "code",
   "execution_count": 34,
   "id": "d12b2bbb-30e7-4d45-afdf-01ca0825f4ba",
   "metadata": {},
   "outputs": [
    {
     "name": "stdout",
     "output_type": "stream",
     "text": [
      "Fitting 3 folds for each of 20 candidates, totalling 60 fits\n",
      "Best Random Forest Params: {'n_estimators': 200, 'min_samples_split': 2, 'min_samples_leaf': 1, 'max_features': 'sqrt', 'max_depth': None}\n",
      "F1 Score on test set: 0.9997604503533357\n"
     ]
    }
   ],
   "source": [
    "#  Define hyperparameter space \n",
    "param_dist = {\n",
    "    'n_estimators': [100, 200],\n",
    "    'max_depth': [10, 20, None],\n",
    "    'min_samples_split': [2, 5],\n",
    "    'min_samples_leaf': [1, 4],\n",
    "    'max_features': ['sqrt', 'log2', None]  \n",
    "}\n",
    "\n",
    "#  Create the base model\n",
    "rf = RandomForestClassifier(random_state=42)\n",
    "\n",
    "#  Set up RandomizedSearchCV\n",
    "random_search = RandomizedSearchCV(\n",
    "    estimator=rf,\n",
    "    param_distributions=param_dist,\n",
    "    n_iter=20,               # 20 random combinations\n",
    "    scoring='f1',            # F1 score for classification\n",
    "    cv=3,                    # 3-fold CV (faster)\n",
    "    verbose=2,               # Show progress\n",
    "    n_jobs=-1,               # Use all CPU cores\n",
    "    random_state=42\n",
    ")\n",
    "\n",
    "#  Fit the model\n",
    "random_search.fit(x_train, y_train)\n",
    "\n",
    "#  Print best parameters\n",
    "print(\"Best Random Forest Params:\", random_search.best_params_)\n",
    "\n",
    "#  Evaluate on test set\n",
    "y_pred = random_search.predict(x_test)\n",
    "print(\"F1 Score on test set:\", f1_score(y_test, y_pred))\n"
   ]
  },
  {
   "cell_type": "code",
   "execution_count": 35,
   "id": "81e94a58-bf5e-4ac0-95e9-c01bbc7d633d",
   "metadata": {},
   "outputs": [
    {
     "name": "stdout",
     "output_type": "stream",
     "text": [
      "Fitting 3 folds for each of 20 candidates, totalling 60 fits\n",
      "Best XGBoost Params: {'subsample': 0.8, 'n_estimators': 200, 'max_depth': 7, 'learning_rate': 0.1, 'gamma': 0, 'colsample_bytree': 1.0}\n",
      "F1 Score on test set: 0.9998602738632281\n"
     ]
    }
   ],
   "source": [
    "#  Use 10% of training data for hyperparameter tuning\n",
    "x_small, _, y_small, _ = train_test_split(x_train, y_train, train_size=0.1, random_state=42)\n",
    "\n",
    "#  Define reduced search space\n",
    "param_dist_xgb = {\n",
    "    'n_estimators': [100, 200],\n",
    "    'max_depth': [3, 5, 7],\n",
    "    'learning_rate': [0.01, 0.1],\n",
    "    'subsample': [0.8, 1.0],\n",
    "    'colsample_bytree': [0.7, 1.0],\n",
    "    'gamma': [0, 0.1, 0.2]\n",
    "}\n",
    "\n",
    "#  Initialize model\n",
    "xgb_model = XGBClassifier(\n",
    "    random_state=42,\n",
    "    eval_metric='logloss'\n",
    ")\n",
    "\n",
    "#  Perform RandomizedSearchCV\n",
    "random_search_xgb = RandomizedSearchCV(\n",
    "    estimator=xgb_model,\n",
    "    param_distributions=param_dist_xgb,\n",
    "    n_iter=20,           # Try 20 random combinations\n",
    "    scoring='f1',\n",
    "    cv=3,                # 3-fold CV (faster than 5)\n",
    "    verbose=2,           # Show progress\n",
    "    n_jobs=-1,           # Use all CPU cores\n",
    "    random_state=42\n",
    ")\n",
    "\n",
    "#  Fit on 10% sample for speed\n",
    "random_search_xgb.fit(x_small, y_small)\n",
    "\n",
    "#  Retrain on full training set with best params\n",
    "best_xgb = random_search_xgb.best_estimator_\n",
    "best_xgb.fit(x_train, y_train)\n",
    "\n",
    "#  Evaluate on test data\n",
    "y_pred_xgb = best_xgb.predict(x_test)\n",
    "print(\"Best XGBoost Params:\", random_search_xgb.best_params_)\n",
    "print(\"F1 Score on test set:\", f1_score(y_test, y_pred_xgb))\n"
   ]
  },
  {
   "cell_type": "code",
   "execution_count": 41,
   "id": "886622e7-6928-4945-bce4-a6953c6fb241",
   "metadata": {},
   "outputs": [
    {
     "name": "stdout",
     "output_type": "stream",
     "text": [
      "Fitting 3 folds for each of 15 candidates, totalling 45 fits\n"
     ]
    },
    {
     "name": "stderr",
     "output_type": "stream",
     "text": [
      "C:\\Users\\owais\\n\\Lib\\site-packages\\sklearn\\linear_model\\_sag.py:349: ConvergenceWarning: The max_iter was reached which means the coef_ did not converge\n",
      "  warnings.warn(\n"
     ]
    },
    {
     "name": "stdout",
     "output_type": "stream",
     "text": [
      "Best Logistic Regression Params: {'C': 0.6173770394704572, 'l1_ratio': 0.5, 'penalty': 'elasticnet', 'solver': 'saga'}\n",
      "F1 Score on test set: 0.8663432654055371\n"
     ]
    }
   ],
   "source": [
    "# Tuned Logistic Regression\n",
    "# Use 10% of training data for faster tuning\n",
    "x_small, _, y_small, _ = train_test_split(x_train, y_train, train_size=0.1, random_state=42)\n",
    "\n",
    "# Define the parameter space\n",
    "param_dist_logreg = {\n",
    "    'C': loguniform(1e-2, 1e1),               # C in log scale: from 0.01 to 10\n",
    "    'solver': ['saga'],                      # Only solver compatible with elasticnet\n",
    "    'penalty': ['elasticnet'],               # elasticnet needs 'saga'\n",
    "    'l1_ratio': [0.0, 0.5, 1.0]              # Mix of L1 and L2\n",
    "}\n",
    "\n",
    "# Create the logistic regression model\n",
    "logreg = LogisticRegression(max_iter=1000)\n",
    "\n",
    "# Set up RandomizedSearchCV\n",
    "random_search_logreg = RandomizedSearchCV(\n",
    "    estimator=logreg,\n",
    "    param_distributions=param_dist_logreg,\n",
    "    n_iter=15,\n",
    "    scoring='f1',\n",
    "    cv=3,\n",
    "    n_jobs=-1,\n",
    "    verbose=2,\n",
    "    random_state=42\n",
    ")\n",
    "\n",
    "# Fit on the smaller subset\n",
    "random_search_logreg.fit(x_small, y_small)\n",
    "\n",
    "# Retrain best model on full training set\n",
    "best_logreg = random_search_logreg.best_estimator_\n",
    "best_logreg.fit(x_train, y_train)\n",
    "\n",
    "# Predict and evaluate on test set\n",
    "y_pred_logreg = best_logreg.predict(x_test)\n",
    "print(\"Best Logistic Regression Params:\", random_search_logreg.best_params_)\n",
    "print(\"F1 Score on test set:\", f1_score(y_test, y_pred_logreg))\n"
   ]
  },
  {
   "cell_type": "markdown",
   "id": "2add7fa8-730f-4a1b-8766-64b34288a17f",
   "metadata": {},
   "source": [
    "#### Evaluation of Models"
   ]
  },
  {
   "cell_type": "code",
   "execution_count": 98,
   "id": "73395ef9-c096-49d3-8070-bebaf78db620",
   "metadata": {},
   "outputs": [
    {
     "name": "stdout",
     "output_type": "stream",
     "text": [
      "\n",
      "--- Tuned Random Forest ---\n",
      "Accuracy: 1.0000\n",
      "Precision: 1.0000\n",
      "Recall: 0.9999\n",
      "F1 Score: 1.0000\n",
      "ROC AUC: 1.0000\n",
      "Specificity: 1.0000\n",
      "Balanced Accuracy: 1.0000\n",
      "Confusion Matrix:\n",
      "[[38167     0]\n",
      " [    4 49996]]\n",
      "Classification Report:\n",
      "              precision    recall  f1-score   support\n",
      "\n",
      "         0.0       1.00      1.00      1.00     38167\n",
      "         1.0       1.00      1.00      1.00     50000\n",
      "\n",
      "    accuracy                           1.00     88167\n",
      "   macro avg       1.00      1.00      1.00     88167\n",
      "weighted avg       1.00      1.00      1.00     88167\n",
      "\n",
      "\n",
      "--- Tuned XGBoost ---\n",
      "Accuracy: 1.0000\n",
      "Precision: 1.0000\n",
      "Recall: 0.9999\n",
      "F1 Score: 1.0000\n",
      "ROC AUC: 1.0000\n",
      "Specificity: 1.0000\n",
      "Balanced Accuracy: 1.0000\n",
      "Confusion Matrix:\n",
      "[[38167     0]\n",
      " [    4 49996]]\n",
      "Classification Report:\n",
      "              precision    recall  f1-score   support\n",
      "\n",
      "         0.0       1.00      1.00      1.00     38167\n",
      "         1.0       1.00      1.00      1.00     50000\n",
      "\n",
      "    accuracy                           1.00     88167\n",
      "   macro avg       1.00      1.00      1.00     88167\n",
      "weighted avg       1.00      1.00      1.00     88167\n",
      "\n",
      "\n",
      "--- Tuned Logistic Regression ---\n",
      "Accuracy: 0.8508\n",
      "Precision: 0.8783\n",
      "Recall: 0.8554\n",
      "F1 Score: 0.8667\n",
      "ROC AUC: 0.8501\n",
      "Specificity: 0.8447\n",
      "Balanced Accuracy: 0.8501\n",
      "Confusion Matrix:\n",
      "[[32239  5928]\n",
      " [ 7229 42771]]\n",
      "Classification Report:\n",
      "              precision    recall  f1-score   support\n",
      "\n",
      "         0.0       0.82      0.84      0.83     38167\n",
      "         1.0       0.88      0.86      0.87     50000\n",
      "\n",
      "    accuracy                           0.85     88167\n",
      "   macro avg       0.85      0.85      0.85     88167\n",
      "weighted avg       0.85      0.85      0.85     88167\n",
      "\n"
     ]
    },
    {
     "data": {
      "text/html": [
       "<div>\n",
       "<style scoped>\n",
       "    .dataframe tbody tr th:only-of-type {\n",
       "        vertical-align: middle;\n",
       "    }\n",
       "\n",
       "    .dataframe tbody tr th {\n",
       "        vertical-align: top;\n",
       "    }\n",
       "\n",
       "    .dataframe thead th {\n",
       "        text-align: right;\n",
       "    }\n",
       "</style>\n",
       "<table border=\"1\" class=\"dataframe\">\n",
       "  <thead>\n",
       "    <tr style=\"text-align: right;\">\n",
       "      <th></th>\n",
       "      <th>Accuracy</th>\n",
       "      <th>Precision</th>\n",
       "      <th>Recall</th>\n",
       "      <th>F1 Score</th>\n",
       "      <th>ROC AUC</th>\n",
       "      <th>Specificity</th>\n",
       "      <th>Balanced Accuracy</th>\n",
       "    </tr>\n",
       "    <tr>\n",
       "      <th>Model</th>\n",
       "      <th></th>\n",
       "      <th></th>\n",
       "      <th></th>\n",
       "      <th></th>\n",
       "      <th></th>\n",
       "      <th></th>\n",
       "      <th></th>\n",
       "    </tr>\n",
       "  </thead>\n",
       "  <tbody>\n",
       "    <tr>\n",
       "      <th>Tuned Random Forest</th>\n",
       "      <td>0.999955</td>\n",
       "      <td>1.000000</td>\n",
       "      <td>0.99992</td>\n",
       "      <td>0.999960</td>\n",
       "      <td>0.999960</td>\n",
       "      <td>1.000000</td>\n",
       "      <td>0.999960</td>\n",
       "    </tr>\n",
       "    <tr>\n",
       "      <th>Tuned XGBoost</th>\n",
       "      <td>0.999955</td>\n",
       "      <td>1.000000</td>\n",
       "      <td>0.99992</td>\n",
       "      <td>0.999960</td>\n",
       "      <td>0.999960</td>\n",
       "      <td>1.000000</td>\n",
       "      <td>0.999960</td>\n",
       "    </tr>\n",
       "    <tr>\n",
       "      <th>Tuned Logistic Regression</th>\n",
       "      <td>0.850772</td>\n",
       "      <td>0.878273</td>\n",
       "      <td>0.85542</td>\n",
       "      <td>0.866696</td>\n",
       "      <td>0.850051</td>\n",
       "      <td>0.844683</td>\n",
       "      <td>0.850051</td>\n",
       "    </tr>\n",
       "  </tbody>\n",
       "</table>\n",
       "</div>"
      ],
      "text/plain": [
       "                           Accuracy  Precision   Recall  F1 Score   ROC AUC  \\\n",
       "Model                                                                         \n",
       "Tuned Random Forest        0.999955   1.000000  0.99992  0.999960  0.999960   \n",
       "Tuned XGBoost              0.999955   1.000000  0.99992  0.999960  0.999960   \n",
       "Tuned Logistic Regression  0.850772   0.878273  0.85542  0.866696  0.850051   \n",
       "\n",
       "                           Specificity  Balanced Accuracy  \n",
       "Model                                                      \n",
       "Tuned Random Forest           1.000000           0.999960  \n",
       "Tuned XGBoost                 1.000000           0.999960  \n",
       "Tuned Logistic Regression     0.844683           0.850051  "
      ]
     },
     "metadata": {},
     "output_type": "display_data"
    }
   ],
   "source": [
    "results = []\n",
    "results.append(evaluate_model(random_search.best_estimator_, \"Tuned Random Forest\", x_test, y_test))\n",
    "results.append(evaluate_model(random_search_xgb.best_estimator_, \"Tuned XGBoost\", x_test, y_test))\n",
    "results.append(evaluate_model(random_search_logreg.best_estimator_, \"Tuned Logistic Regression\", x_test, y_test))\n",
    "\n",
    "# Final comparison table\n",
    "results_df = pd.DataFrame(results).set_index(\"Model\")\n",
    "display(results_df)\n"
   ]
  },
  {
   "cell_type": "code",
   "execution_count": 100,
   "id": "f602f86a-70b8-4248-ad88-3fbc2a8ae247",
   "metadata": {},
   "outputs": [
    {
     "name": "stdout",
     "output_type": "stream",
     "text": [
      "Cross-validated F1 mean: 0.9874, std: 0.0150\n"
     ]
    }
   ],
   "source": [
    "from sklearn.model_selection import cross_val_score\n",
    "\n",
    "cv_scores = cross_val_score(random_search.best_estimator_, x_train, y_train, cv=5, scoring='f1', n_jobs=-1)\n",
    "print(f\"Cross-validated F1 mean: {cv_scores.mean():.4f}, std: {cv_scores.std():.4f}\")\n"
   ]
  },
  {
   "cell_type": "markdown",
   "id": "0c4ce57e-78da-4f43-af71-2e50bfed21a6",
   "metadata": {},
   "source": [
    "### 7. Load the saved model and build a Predictive System"
   ]
  },
  {
   "cell_type": "code",
   "execution_count": 121,
   "id": "3c3bc86e-08ad-41e9-90c0-c7763226d875",
   "metadata": {},
   "outputs": [
    {
     "name": "stdout",
     "output_type": "stream",
     "text": [
      "Model saved successfully.\n"
     ]
    }
   ],
   "source": [
    "\n",
    "# Save the best XGBoost model with feature names\n",
    "model_data = {\n",
    "    \"model\": random_search.best_estimator_,\n",
    "    \"features_names\": x_train.columns.tolist()\n",
    "}\n",
    "\n",
    "with open(\"customer_churn_model.pkl\", \"wb\") as f:\n",
    "    pickle.dump(model_data, f)\n",
    "\n",
    "print(\"Model saved successfully.\")\n",
    "loaded_model = model_data[\"model\"]\n",
    "feature_names = model_data[\"features_names\"]"
   ]
  },
  {
   "cell_type": "code",
   "execution_count": 122,
   "id": "5f89f07e-5393-4f3d-b82c-e74f6ec1e810",
   "metadata": {},
   "outputs": [
    {
     "name": "stdout",
     "output_type": "stream",
     "text": [
      "RandomForestClassifier(n_estimators=200, random_state=42)\n"
     ]
    }
   ],
   "source": [
    "print(loaded_model)"
   ]
  },
  {
   "cell_type": "code",
   "execution_count": 123,
   "id": "f56ca369-9435-491c-96aa-023da245f2d9",
   "metadata": {},
   "outputs": [
    {
     "name": "stdout",
     "output_type": "stream",
     "text": [
      "['Age', 'Gender', 'Tenure', 'Usage Frequency', 'Support Calls', 'Payment Delay', 'Subscription Type', 'Contract Length', 'Total Spend', 'Last Interaction']\n"
     ]
    }
   ],
   "source": [
    "print(feature_names)"
   ]
  },
  {
   "cell_type": "code",
   "execution_count": 159,
   "id": "76d621cf-da2b-4fef-b56e-5d38ab8cd9fa",
   "metadata": {},
   "outputs": [
    {
     "name": "stdout",
     "output_type": "stream",
     "text": [
      "Prediction: Churn\n",
      "Prediction Probability: [[0. 1.]]\n"
     ]
    },
    {
     "name": "stderr",
     "output_type": "stream",
     "text": [
      "C:\\Users\\owais\\n\\Lib\\site-packages\\sklearn\\preprocessing\\_label.py:132: DataConversionWarning: A column-vector y was passed when a 1d array was expected. Please change the shape of y to (n_samples, ), for example using ravel().\n",
      "  y = column_or_1d(y, dtype=self.classes_.dtype, warn=True)\n",
      "C:\\Users\\owais\\n\\Lib\\site-packages\\sklearn\\preprocessing\\_label.py:132: DataConversionWarning: A column-vector y was passed when a 1d array was expected. Please change the shape of y to (n_samples, ), for example using ravel().\n",
      "  y = column_or_1d(y, dtype=self.classes_.dtype, warn=True)\n",
      "C:\\Users\\owais\\n\\Lib\\site-packages\\sklearn\\preprocessing\\_label.py:132: DataConversionWarning: A column-vector y was passed when a 1d array was expected. Please change the shape of y to (n_samples, ), for example using ravel().\n",
      "  y = column_or_1d(y, dtype=self.classes_.dtype, warn=True)\n"
     ]
    }
   ],
   "source": [
    "import pandas as pd\n",
    "import pickle\n",
    "\n",
    "#  Load the model\n",
    "with open(\"customer_churn_model.pkl\", \"rb\") as f:\n",
    "    model_data = pickle.load(f)\n",
    "\n",
    "loaded_model = model_data[\"model\"]\n",
    "expected_features = model_data[\"features_names\"]\n",
    "\n",
    "#  Load the encoders\n",
    "with open(\"encoders.pkl\", \"rb\") as f:\n",
    "    encoders = pickle.load(f)\n",
    "\n",
    "#  Prepare new input\n",
    "input_data = {\n",
    "    \"Age\": 22,\n",
    "    \"Gender\": \"Female\",\n",
    "    \"Tenure\": 25,\n",
    "    \"Usage Frequency\": 14,\n",
    "    \"Support Calls\": 4,\n",
    "    \"Payment Delay\": 27,\n",
    "    \"Subscription Type\": \"Basic\",\n",
    "    \"Contract Length\": \"Monthly\",\n",
    "    \"Total Spend\": 598,\n",
    "    \"Last Interaction\": 9\n",
    "}\n",
    "input_df = pd.DataFrame([input_data])\n",
    "\n",
    "#  Apply encoders to required categorical columns\n",
    "for col in [\"Gender\", \"Subscription Type\", \"Contract Length\"]:\n",
    "    if col in encoders:\n",
    "        input_df[col] = encoders[col].transform(input_df[[col]])\n",
    "    else:\n",
    "        raise ValueError(f\"Encoder for '{col}' not found.\")\n",
    "\n",
    "#  Ensure feature order matches training\n",
    "input_df = input_df[expected_features]\n",
    "\n",
    "#  Predict\n",
    "prediction = loaded_model.predict(input_df)\n",
    "prob = loaded_model.predict_proba(input_df)\n",
    "\n",
    "print(f\"Prediction: {'Churn' if prediction[0] == 1 else 'No churn'}\")\n",
    "print(f\"Prediction Probability: {prob}\")\n"
   ]
  },
  {
   "cell_type": "code",
   "execution_count": 158,
   "id": "a9bd80e2-d8c3-4727-bdaf-23cbfe1e6e7d",
   "metadata": {},
   "outputs": [
    {
     "name": "stdout",
     "output_type": "stream",
     "text": [
      "[1.]\n",
      "Prediction: churn\n",
      "Prediciton Probability: [[0. 1.]]\n"
     ]
    }
   ],
   "source": [
    "input_data =  {\n",
    "        \"Age\": 41,\n",
    "        \"Gender\": \"Female\",\n",
    "        \"Tenure\": 28,\n",
    "        \"Usage Frequency\": 28,\n",
    "        \"Support Calls\": 7,\n",
    "        \"Payment Delay\": 13,\n",
    "        \"Subscription Type\": \"Standard\",\n",
    "        \"Contract Length\": \"Monthly\",\n",
    "        \"Total Spend\": 584,\n",
    "        \"Last Interaction\": 20\n",
    "    }\n",
    "\n",
    "input_data_df = pd.DataFrame([input_data])\n",
    "\n",
    "with open(\"encoders.pkl\", \"rb\") as f:\n",
    "  encoders = pickle.load(f)\n",
    "\n",
    "\n",
    "# encode categorical featires using teh saved encoders\n",
    "for column, encoder in encoders.items():\n",
    "    if column in input_data_df.columns:\n",
    "       input_data_df[column] = encoder.transform(input_data_df[column])\n",
    "\n",
    "# make a prediction\n",
    "prediction = loaded_model.predict(input_data_df)\n",
    "pred_prob = loaded_model.predict_proba(input_data_df)\n",
    "\n",
    "print(prediction)\n",
    "\n",
    "# results\n",
    "print(f\"Prediction: {'churn' if prediction[0] == 1 else 'No churn'}\")\n",
    "print(f\"Prediciton Probability: {pred_prob}\")"
   ]
  },
  {
   "cell_type": "code",
   "execution_count": null,
   "id": "990b7cf2-dbac-4ad2-8b38-0aa2df8924c0",
   "metadata": {},
   "outputs": [],
   "source": []
  },
  {
   "cell_type": "code",
   "execution_count": null,
   "id": "369ca51f-95fe-46c2-b292-878f083dff80",
   "metadata": {},
   "outputs": [],
   "source": []
  }
 ],
 "metadata": {
  "kernelspec": {
   "display_name": "Python 3 (ipykernel)",
   "language": "python",
   "name": "python3"
  },
  "language_info": {
   "codemirror_mode": {
    "name": "ipython",
    "version": 3
   },
   "file_extension": ".py",
   "mimetype": "text/x-python",
   "name": "python",
   "nbconvert_exporter": "python",
   "pygments_lexer": "ipython3",
   "version": "3.12.7"
  }
 },
 "nbformat": 4,
 "nbformat_minor": 5
}
